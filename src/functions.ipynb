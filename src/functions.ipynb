{
 "cells": [
  {
   "cell_type": "markdown",
   "id": "9b64cda8-3f8f-4037-8c88-49ce22894769",
   "metadata": {},
   "source": [
    "Data loading and basic cleaning"
   ]
  },
  {
   "cell_type": "code",
   "execution_count": 6,
   "id": "1b07c001-eb87-4f08-a837-a5ae3bc1b34e",
   "metadata": {},
   "outputs": [],
   "source": [
    "import pandas as pd\n",
    "import os\n",
    "import pickle\n",
    "from sklearn.compose import ColumnTransformer\n",
    "from sklearn.preprocessing import StandardScaler, OneHotEncoder\n",
    "from sklearn.model_selection import train_test_split\n",
    "\n",
    "\n",
    "def load_and_clean_data(file_path):\n",
    "    \"\"\"\n",
    "    Load data and perform basic cleaning.\n",
    "    \"\"\"\n",
    "    ttc = pd.read_csv(file_path, parse_dates=['Date'])\n",
    "    ttc['Time'] = pd.to_datetime(ttc['Time']).dt.time\n",
    "    ttc['Date_'] = ttc['Date'].dt.date\n",
    "    ttc['Month'] = ttc['Date'].dt.month\n",
    "    ttc['Hour'] = ttc['Time'].map(lambda x: x.hour)\n",
    "    ttc = ttc.drop(columns=['Date', 'Time', 'Direction', 'Vehicle']).dropna()\n",
    "    return ttc"
   ]
  },
  {
   "cell_type": "markdown",
   "id": "36ab588b-9859-44f0-80de-3b3d15dce13f",
   "metadata": {},
   "source": [
    "Other functions for your reference"
   ]
  },
  {
   "cell_type": "markdown",
   "id": "2e3d32a0-58e5-4972-991d-c8f1b7ad9ffc",
   "metadata": {},
   "source": [
    "\"\"\"\n",
    "\n",
    "def remove_outliers(data, column, min_val, max_val):\n",
    "    \"\"\"\n",
    "    Remove rows where column values are outside min_val and max_val.\n",
    "    \"\"\"\n",
    "    return data[(data[column] > min_val) & (data[column] < max_val)].reset_index(drop=True)\n",
    "\n",
    "def categorize_delays(data, column):\n",
    "    \"\"\"\n",
    "    Categorize delays into Short, Medium, and Long.\n",
    "    \"\"\"\n",
    "    data[column] = data[column].apply(\n",
    "        lambda x: \"Short Delay\" if x > 0 and x <= 10 else\n",
    "                  \"Medium Delay\" if x > 10 and x <= 20 else\n",
    "                  \"Long Delay\" if x > 20 else x\n",
    "    )\n",
    "    return data\n",
    "\n",
    "def preprocess_and_split(data, target_column, numeric_features, categorical_features, test_size=0.2, random_state=123):\n",
    "    \"\"\"\n",
    "    Preprocess data and split into train and test sets.\n",
    "    \"\"\"\n",
    "    X = data.drop(columns=[target_column])\n",
    "    y = data[target_column]\n",
    "\n",
    "    preprocessor = ColumnTransformer(\n",
    "        transformers=[\n",
    "            ('num', StandardScaler(), numeric_features),\n",
    "            ('cat', OneHotEncoder(handle_unknown='ignore'), categorical_features)\n",
    "        ]\n",
    "    )\n",
    "\n",
    "    X_train, X_test, y_train, y_test = train_test_split(X, y, test_size=test_size, random_state=random_state)\n",
    "    preprocessor.fit(X_train)\n",
    "    \n",
    "    train_processed = preprocessor.transform(X_train)\n",
    "    test_processed = preprocessor.transform(X_test)\n",
    "    return X_train, X_test, y_train, y_test, train_processed, test_processed, preprocessor\n",
    "\n",
    "def save_artifacts(preprocessor, X_train, y_train, X_test, y_test, train_processed, test_processed, output_paths):\n",
    "    \"\"\"\n",
    "    Save preprocessor and datasets to disk.\n",
    "    \"\"\"\n",
    "    pickle.dump(preprocessor, open(output_paths['preprocessor'], 'wb'))\n",
    "    X_train.to_csv(output_paths['X_train'], index=False)\n",
    "    y_train.to_csv(output_paths['y_train'], index=False)\n",
    "    X_test.to_csv(output_paths['X_test'], index=False)\n",
    "    y_test.to_csv(output_paths['y_test'], index=False)\n",
    "    pickle.dump(train_processed, open(output_paths['train_processed'], 'wb'))\n",
    "    pickle.dump(test_processed, open(output_paths['test_processed'], 'wb'))\n",
    "\"\"\""
   ]
  }
 ],
 "metadata": {
  "kernelspec": {
   "display_name": "Python 3 (ipykernel)",
   "language": "python",
   "name": "python3"
  },
  "language_info": {
   "codemirror_mode": {
    "name": "ipython",
    "version": 3
   },
   "file_extension": ".py",
   "mimetype": "text/x-python",
   "name": "python",
   "nbconvert_exporter": "python",
   "pygments_lexer": "ipython3",
   "version": "3.11.11"
  }
 },
 "nbformat": 4,
 "nbformat_minor": 5
}
